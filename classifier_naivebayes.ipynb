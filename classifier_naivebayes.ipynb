{
  "cells": [
    {
      "cell_type": "code",
      "execution_count": null,
      "id": "73e9db53",
      "metadata": {
        "colab": {
          "base_uri": "https://localhost:8080/"
        },
        "id": "73e9db53",
        "outputId": "acc92083-103e-4db0-a509-08f82df14332"
      },
      "outputs": [
        {
          "output_type": "stream",
          "name": "stderr",
          "text": [
            "[nltk_data] Downloading package stopwords to /root/nltk_data...\n",
            "[nltk_data]   Unzipping corpora/stopwords.zip.\n",
            "[nltk_data] Downloading package wordnet to /root/nltk_data...\n",
            "[nltk_data] Downloading package punkt to /root/nltk_data...\n",
            "[nltk_data]   Unzipping tokenizers/punkt.zip.\n"
          ]
        },
        {
          "output_type": "execute_result",
          "data": {
            "text/plain": [
              "True"
            ]
          },
          "metadata": {},
          "execution_count": 3
        }
      ],
      "source": [
        "import PyPDF2\n",
        "import nltk\n",
        "import random\n",
        "from nltk.corpus import stopwords\n",
        "from nltk.tokenize import RegexpTokenizer\n",
        "nltk.download('stopwords')\n",
        "nltk.download('wordnet')\n",
        "nltk.download('punkt')"
      ]
    },
    {
      "cell_type": "code",
      "source": [
        "from google.colab import drive\n",
        "drive.mount('/content/drive')"
      ],
      "metadata": {
        "id": "Zn423CaJbpyS",
        "colab": {
          "base_uri": "https://localhost:8080/"
        },
        "outputId": "b9234b34-8619-4a90-9e4b-c777b4698736"
      },
      "id": "Zn423CaJbpyS",
      "execution_count": null,
      "outputs": [
        {
          "output_type": "stream",
          "name": "stdout",
          "text": [
            "Mounted at /content/drive\n"
          ]
        }
      ]
    },
    {
      "cell_type": "markdown",
      "source": [
        "# ***Creation de Classe pour le NaiveBayesClassifier***"
      ],
      "metadata": {
        "id": "OSfYWo6KNrfi"
      },
      "id": "OSfYWo6KNrfi"
    },
    {
      "cell_type": "code",
      "source": [
        "import time"
      ],
      "metadata": {
        "id": "S4_efOSnNrKV"
      },
      "id": "S4_efOSnNrKV",
      "execution_count": null,
      "outputs": []
    },
    {
      "cell_type": "code",
      "execution_count": null,
      "id": "9900bbc1",
      "metadata": {
        "id": "9900bbc1"
      },
      "outputs": [],
      "source": [
        "\"\"\"class Classifier:\n",
        "\n",
        "    def __init__(self):\n",
        "        self.classifieur=nltk.NaiveBayesClassifier\n",
        "\n",
        "\n",
        "    def train(self, featureset):\n",
        "        self.classifieur.train(featureset)\n",
        "\n",
        "\n",
        "    def classify(self, features):\n",
        "        self.classifieur.classify(features)\n",
        "\n",
        "    def most_informative_features(self, n):\n",
        "        self.classifieur.show_most_informative_features(n)\n",
        "\n",
        "    def classifier(self, doc, db):\n",
        "        sett=Document(doc).listetoken\n",
        "        return(self.classifieur.classify(db.trouveFeature(sett)))    \"\"\"\n",
        ""
      ]
    },
    {
      "cell_type": "markdown",
      "source": [],
      "metadata": {
        "id": "jedU5UJqi8eI"
      },
      "id": "jedU5UJqi8eI"
    },
    {
      "cell_type": "code",
      "execution_count": null,
      "id": "6eb0a3fe",
      "metadata": {
        "id": "6eb0a3fe"
      },
      "outputs": [],
      "source": [
        "class Document:\n",
        "\n",
        "    def __init__(self, url):\n",
        "        self.url=url\n",
        "\n",
        "\n",
        "\n",
        "    def lirePDF(self):\n",
        "        pdfFileObj = open(self.url, 'rb')\n",
        "        pdfReader = PyPDF2.PdfFileReader(pdfFileObj)\n",
        "        pages=[]\n",
        "        for i in range(pdfReader.numPages):\n",
        "            pages.append(pdfReader.getPage(i).extractText())\n",
        "        return pages\n",
        "\n",
        "    def listetoken(self):\n",
        "        tokenizer = RegexpTokenizer(r'\\w+')\n",
        "        pdfFileObj = open(self.url, 'rb')\n",
        "        pdfReader = PyPDF2.PdfFileReader(pdfFileObj)\n",
        "        pages=[]\n",
        "        for i in range(pdfReader.numPages):\n",
        "            pages.append(pdfReader.getPage(i).extractText())\n",
        "        mots=[]\n",
        "        for i in pages:\n",
        "            mots+= tokenizer.tokenize(i)\n",
        "        return mots\n",
        "\n",
        "\n",
        ""
      ]
    },
    {
      "cell_type": "markdown",
      "source": [
        "Classe Database."
      ],
      "metadata": {
        "id": "73fMy5dIj_lX"
      },
      "id": "73fMy5dIj_lX"
    },
    {
      "cell_type": "code",
      "source": [
        "class Database: #Permet de créer une instance base de donnée d'entrainement ou de validation qui contient les documents d'entrainement/validation\n",
        "                #ainsi que les 3000 mots les plus frequents dans tout ses documents catégories confondu\n",
        "\n",
        "    def __init__(self):\n",
        "        self.documentList=[]\n",
        "        self.mostFrequentWords=[]\n",
        "\n",
        "    def remplissageBD(self, doc, cat):\n",
        "        self.documentList.append((Document(doc).listetoken(), cat)) #Remplissage de la base de donnée avec les documents(file path) et leur catégorie\n",
        "\n",
        "    def updateFrequentWords(self):  # Met à jour la liste des mots les plus fréquents. A appeler apres chaque modification ou remplissage de notre base de donnée\n",
        "        toutlesmots=[]\n",
        "        for i in self.documentList:\n",
        "            toutlesmots+=i[0]\n",
        "\n",
        "\n",
        "        frequencemots= nltk.FreqDist(toutlesmots)\n",
        "        print (frequencemots.most_common(100))\n",
        "\n",
        "        self.mostFrequentWords=[]\n",
        "        stop_words=set(stopwords.words(\"french\"))\n",
        "        for i in frequencemots.most_common(3000):\n",
        "            if i[0] not in stop_words:\n",
        "                self.mostFrequentWords.append(i[0])\n",
        "\n",
        "    def trouveFeature(self, doc): # Retourne un dico{mots: boolean} selon que les mots les plus utilisés de notre base de données sont présents dans notre document (doc) ou pas\n",
        "        words= set(doc)\n",
        "        features= {}\n",
        "        ws=self.mostFrequentWords\n",
        "        for w in ws:\n",
        "            features[w]= (w in words)\n",
        "        return features\n",
        "\n",
        "    def featureSet(self): # Fonction pour entrainer notre Classifier retourne le dico trouveFeature avec la categorie du document pour tout les documents de notre Database\n",
        "        return [(self.trouveFeature(rev), category) for (rev, category) in self.documentList]"
      ],
      "metadata": {
        "id": "A_R1CS5Dv_ET"
      },
      "id": "A_R1CS5Dv_ET",
      "execution_count": null,
      "outputs": []
    },
    {
      "cell_type": "markdown",
      "source": [
        "Exemple d'usage sur des PDF de type PSSI / CI"
      ],
      "metadata": {
        "id": "mGL1_jLXueWG"
      },
      "id": "mGL1_jLXueWG"
    },
    {
      "cell_type": "code",
      "source": [
        "db = Database()"
      ],
      "metadata": {
        "id": "5qdHlCCl1nnV"
      },
      "id": "5qdHlCCl1nnV",
      "execution_count": null,
      "outputs": []
    },
    {
      "cell_type": "code",
      "source": [
        "start = time.time()\n",
        "\n",
        "\n",
        "\n",
        "db.remplissageBD('/content/drive/MyDrive/P2C1_clients copie 2/UES_PSSI-POLITIQUE-SECURITE.pdf', 'PSSI')\n",
        "\n",
        "db.remplissageBD('/content/drive/MyDrive/P2C1_clients copie 2/CharteInfosEx1.pdf', 'CI')\n",
        "\n",
        "db.remplissageBD('/content/drive/MyDrive/P2C1_clients copie 2/Charte_informatique.pdf', 'CI')\n",
        "\n",
        "db.remplissageBD('/content/drive/MyDrive/P2C1_clients copie 2/Charte informatique du Diocese dAnnecy.pdf', 'CI')\n",
        "\n",
        "db.remplissageBD('/content/drive/MyDrive/P2C1_clients copie 2/2021.34.-PROJET-DE-CHARTE-INFORMATIQUE.pdf', 'CI')\n",
        "\n",
        "db.remplissageBD('/content/drive/MyDrive/P2C1_clients copie 2/1920.pdf', 'PSSI')\n",
        "\n",
        "db.remplissageBD('/content/drive/MyDrive/P2C1_clients copie 2/Instruction plan de sécurité SI.pdf', 'PSSI')\n",
        "\n",
        "db.remplissageBD('/content/drive/MyDrive/P2C1_clients copie 2/Isitix-plan-PSSI.pdf', 'PSSI')\n",
        "\n",
        "db.remplissageBD(\"/content/drive/MyDrive/P2C1_clients copie 2/Politique de Sécurité des Systèmes d'Information de l'ULB.pdf\", 'PSSI')\n",
        "\n",
        "db.remplissageBD('/content/drive/MyDrive/P2C1_clients copie 2/PSSI_doc_PSSI-visible.pdf', 'PSSI')\n",
        "\n",
        "db.remplissageBD('/content/drive/MyDrive/P2C1_clients copie 2/PSSI_LABO_PM_27.pdf', 'PSSI')\n",
        "\n",
        "db.remplissageBD('/content/drive/MyDrive/P2C1_clients copie 2/pssi_nc_v2.pdf', 'PSSI')\n",
        "\n",
        "db.remplissageBD('/content/drive/MyDrive/P2C1_clients copie 2/pssi-utln-20200110.pdf', 'PSSI')\n",
        "\n",
        "db.remplissageBD('/content/drive/MyDrive/P2C1_clients copie 2/PSSI-E.pdf', 'PSSI')\n",
        "\n",
        "db.remplissageBD('/content/drive/MyDrive/P2C1_clients copie 2/cis-groupe-engagements-politique-de-securite-des-systemes-dinformation-fr.pdf', 'PSSI')\n",
        "\n",
        "db.remplissageBD('/content/drive/MyDrive/P2C1_clients copie 2/charte-informatique-article-2.pdf', 'CI')\n",
        "\n",
        "db.remplissageBD('/content/drive/MyDrive/P2C1_clients copie 2/Charte_informatique 2.pdf', 'CI')\n",
        "\n",
        "db.remplissageBD(\"/content/drive/MyDrive/P2C1_clients copie 2/PSSI_UnivTours_v1.1 (1).pdf\", 'PSSI')\n",
        "\n",
        "\n",
        "end = time.time()\n",
        "elapse = end - start\n",
        "print (\"Time to fill our database with some example: \", elapse, \"ms\")"
      ],
      "metadata": {
        "id": "Doze7fNy1q5K",
        "colab": {
          "base_uri": "https://localhost:8080/"
        },
        "outputId": "f1cf7eb0-19aa-443f-d33c-f478b0281801"
      },
      "id": "Doze7fNy1q5K",
      "execution_count": null,
      "outputs": [
        {
          "output_type": "stream",
          "name": "stdout",
          "text": [
            "Time to fill our database with some example:  33.10506010055542 ms\n"
          ]
        }
      ]
    },
    {
      "cell_type": "code",
      "source": [
        "start = time.time()\n",
        "db.updateFrequentWords()\n",
        "end = time.time()\n",
        "elapse = end - start\n",
        "print (\"Time to update our database with the most frequent words: \", elapse, \"ms\")"
      ],
      "metadata": {
        "id": "P0z9rw8p2Qnv",
        "colab": {
          "base_uri": "https://localhost:8080/"
        },
        "outputId": "397dcd04-9370-46e9-f1b7-4ff3cde0d7b9"
      },
      "id": "P0z9rw8p2Qnv",
      "execution_count": null,
      "outputs": [
        {
          "output_type": "stream",
          "name": "stdout",
          "text": [
            "[('de', 10025), ('des', 5261), ('d', 4116), ('et', 3847), ('la', 3817), ('les', 2871), ('l', 2731), ('à', 2637), ('du', 2185), ('le', 2028), ('en', 1895), ('ou', 1436), ('un', 1301), ('sécurité', 1162), ('1', 1075), ('par', 1032), ('une', 1027), ('être', 954), ('au', 916), ('est', 910), ('pour', 905), ('2', 883), ('s', 877), ('3', 823), ('Les', 822), ('4', 794), ('sont', 765), ('dans', 762), ('sur', 756), ('Le', 746), ('aux', 692), ('SI', 617), ('données', 603), ('5', 598), ('accès', 586), ('que', 553), ('information', 541), ('Sécurité', 495), ('6', 483), ('SSI', 465), ('vice', 454), ('RSSI', 447), ('La', 441), ('rectorat', 439), ('PSSI', 433), ('Information', 431), ('qui', 405), ('Calédonie', 402), ('Nouvelle', 400), ('doit', 398), ('L', 392), ('Responsable', 379), ('Politique', 364), ('mise', 364), ('ne', 361), ('système', 358), ('œuvre', 350), ('réseau', 328), ('règles', 319), ('DSI', 317), ('cas', 315), ('pas', 309), ('systèmes', 306), ('il', 305), ('avec', 294), ('Systèmes', 293), ('sans', 292), ('doivent', 290), ('e', 288), ('informations', 285), ('Il', 283), ('risques', 280), ('8', 274), ('7', 269), ('personnel', 269), ('10', 265), ('utilisateurs', 257), ('Page', 256), ('informatique', 252), ('ce', 247), ('ressources', 243), ('n', 239), ('niveau', 232), ('utilisation', 228), ('services', 227), ('qu', 227), ('leur', 226), ('gestion', 225), ('DOIT', 224), ('travail', 223), ('moyens', 223), ('a', 221), ('ces', 214), ('utilisateur', 212), ('mesures', 211), ('son', 207), ('X', 206), ('responsable', 199), ('protection', 195), ('autorisation', 194)]\n",
            "Time to update our database with the most frequent words:  0.1390976905822754 ms\n"
          ]
        }
      ]
    },
    {
      "cell_type": "code",
      "source": [
        "dsc=nltk.NaiveBayesClassifier.train(db.featureSet())"
      ],
      "metadata": {
        "id": "DkrXdDHFMGxH"
      },
      "id": "DkrXdDHFMGxH",
      "execution_count": null,
      "outputs": []
    },
    {
      "cell_type": "code",
      "source": [
        "dsc.show_most_informative_features(20)"
      ],
      "metadata": {
        "id": "0WjIBdk7MZG9",
        "colab": {
          "base_uri": "https://localhost:8080/"
        },
        "outputId": "8c845377-202a-4df0-a625-efa0fbc6d24f"
      },
      "id": "0WjIBdk7MZG9",
      "execution_count": null,
      "outputs": [
        {
          "output_type": "stream",
          "name": "stdout",
          "text": [
            "Most Informative Features\n",
            "                    PSSI = False              CI : PSSI   =      8.0 : 1.0\n",
            "               Politique = False              CI : PSSI   =      8.0 : 1.0\n",
            "                 analyse = False              CI : PSSI   =      8.0 : 1.0\n",
            "               perturber = True               CI : PSSI   =      8.0 : 1.0\n",
            "          disciplinaires = True               CI : PSSI   =      6.8 : 1.0\n",
            "                 domaine = False              CI : PSSI   =      6.8 : 1.0\n",
            "                 envoyés = True               CI : PSSI   =      6.8 : 1.0\n",
            "               installer = True               CI : PSSI   =      6.8 : 1.0\n",
            "                intérêts = True               CI : PSSI   =      6.8 : 1.0\n",
            "                 message = True               CI : PSSI   =      6.8 : 1.0\n",
            "          proportionnées = True               CI : PSSI   =      6.8 : 1.0\n",
            "                recevoir = True               CI : PSSI   =      6.8 : 1.0\n",
            "                 sociaux = True               CI : PSSI   =      6.8 : 1.0\n",
            "               envisager = True               CI : PSSI   =      5.6 : 1.0\n",
            "                   faits = True               CI : PSSI   =      5.6 : 1.0\n",
            "               impératif = True               CI : PSSI   =      5.6 : 1.0\n",
            "                 jointes = True               CI : PSSI   =      5.6 : 1.0\n",
            "             limitations = True               CI : PSSI   =      5.6 : 1.0\n",
            "               multiples = True               CI : PSSI   =      5.6 : 1.0\n",
            "             opportunité = True               CI : PSSI   =      5.6 : 1.0\n"
          ]
        }
      ]
    },
    {
      "cell_type": "code",
      "source": [
        "start=time.time()\n",
        "classs=dsc.classify(db.trouveFeature(Document(\"/content/drive/MyDrive/P2C1_clients copie 2/SDSSI.pdf\").listetoken()))\n",
        "end = time.time()\n",
        "elapse = end - start\n",
        "print (\"Type of the document: \", classs,\"\\nTime to classify the document: \", elapse, \"ms\")\n"
      ],
      "metadata": {
        "id": "0WRzoHfMMmvY",
        "colab": {
          "base_uri": "https://localhost:8080/",
          "height": 53
        },
        "outputId": "2762bb20-4834-49c7-d511-1c94c91f0ec0"
      },
      "id": "0WRzoHfMMmvY",
      "execution_count": null,
      "outputs": [
        {
          "output_type": "stream",
          "name": "stdout",
          "text": [
            "Type of the document:  PSSI Time to classify the document:  0.5351698398590088 ms\n"
          ]
        },
        {
          "output_type": "execute_result",
          "data": {
            "text/plain": [
              "'PSSI'"
            ],
            "application/vnd.google.colaboratory.intrinsic+json": {
              "type": "string"
            }
          },
          "metadata": {},
          "execution_count": 17
        }
      ]
    },
    {
      "cell_type": "code",
      "source": [
        "import pickle\n",
        "f = open('/content/drive/MyDrive/P2C1_clients classifier_imtk.pickle', 'wb')\n",
        "pickle.dump(dsc, f)\n",
        "f.close()"
      ],
      "metadata": {
        "id": "39J3adHSl408"
      },
      "id": "39J3adHSl408",
      "execution_count": null,
      "outputs": []
    },
    {
      "cell_type": "code",
      "source": [],
      "metadata": {
        "id": "Vq7U35ChhSzN"
      },
      "id": "Vq7U35ChhSzN",
      "execution_count": null,
      "outputs": []
    },
    {
      "cell_type": "markdown",
      "source": [
        "References:\n",
        "\n",
        "https://www.youtube.com/c/sentdex\n",
        "            \n",
        "https://openclassrooms.com/fr/courses/4470541-analysez-vos-donnees-textuelles/4855001-representez-votre-corpus-en-bag-of-words\n",
        "            \n",
        "  https://pythonprogramming.net/naive-bayes-classifier-nltk-tutorial/\n",
        "\n",
        "  https://www.nltk.org/book/ch06.html\n"
      ],
      "metadata": {
        "id": "jO9Hk2RqhTQH"
      },
      "id": "jO9Hk2RqhTQH"
    }
  ],
  "metadata": {
    "kernelspec": {
      "display_name": "Python 3 (ipykernel)",
      "language": "python",
      "name": "python3"
    },
    "language_info": {
      "codemirror_mode": {
        "name": "ipython",
        "version": 3
      },
      "file_extension": ".py",
      "mimetype": "text/x-python",
      "name": "python",
      "nbconvert_exporter": "python",
      "pygments_lexer": "ipython3",
      "version": "3.9.7"
    },
    "colab": {
      "provenance": []
    }
  },
  "nbformat": 4,
  "nbformat_minor": 5
}